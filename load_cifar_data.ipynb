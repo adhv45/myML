{
 "cells": [
  {
   "cell_type": "markdown",
   "metadata": {},
   "source": [
    "# Loading Cifar data from downloaded dataset files\n",
    "## In cifar downloaded data there are mainly two files test and train\n",
    "## following script is for loading the data for feeding to cnn \n",
    "(reference Keras documentation)"
   ]
  },
  {
   "cell_type": "code",
   "execution_count": 17,
   "metadata": {},
   "outputs": [],
   "source": [
    "from six.moves import cPickle"
   ]
  },
  {
   "cell_type": "code",
   "execution_count": 18,
   "metadata": {},
   "outputs": [],
   "source": [
    "trainpath = 'train' # path the extracted train file\n",
    "testpath ='test'  # path to extracted test file extracted from cifar python dataset file"
   ]
  },
  {
   "cell_type": "code",
   "execution_count": 32,
   "metadata": {},
   "outputs": [],
   "source": [
    "def unpickle(file):\n",
    "    \n",
    "    with open(file, 'rb') as fo:\n",
    "        dict = cPickle.load(fo, encoding='bytes')\n",
    "        d_decoded = {}\n",
    "        for k, v in dict.items():\n",
    "            data_decoded[k.decode('utf8')] = v\n",
    "        data = data_decoded\n",
    "    data = data['data']\n",
    "    labels = data['fine_labels']\n",
    "    data = data.reshape(data.shape[0], 3, 32, 32)\n",
    "    return data, labels    "
   ]
  },
  {
   "cell_type": "code",
   "execution_count": 33,
   "metadata": {},
   "outputs": [],
   "source": [
    "x_train, y_train = unpickle(trainpath)\n",
    "x_test, y_test = unpickle(testpath)"
   ]
  },
  {
   "cell_type": "code",
   "execution_count": 34,
   "metadata": {},
   "outputs": [
    {
     "data": {
      "text/plain": [
       "(50000, 3, 32, 32)"
      ]
     },
     "execution_count": 34,
     "metadata": {},
     "output_type": "execute_result"
    }
   ],
   "source": [
    "x_train.shape"
   ]
  }
 ],
 "metadata": {
  "kernelspec": {
   "display_name": "Python 3",
   "language": "python",
   "name": "python3"
  },
  "language_info": {
   "codemirror_mode": {
    "name": "ipython",
    "version": 3
   },
   "file_extension": ".py",
   "mimetype": "text/x-python",
   "name": "python",
   "nbconvert_exporter": "python",
   "pygments_lexer": "ipython3",
   "version": "3.6.5"
  }
 },
 "nbformat": 4,
 "nbformat_minor": 2
}
